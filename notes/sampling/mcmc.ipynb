{
 "cells": [
  {
   "cell_type": "code",
   "execution_count": 7,
   "metadata": {},
   "outputs": [
    {
     "name": "stdout",
     "output_type": "stream",
     "text": [
      "[[0.28650138 0.48852158 0.22497704]\n",
      " [0.28650138 0.48852158 0.22497704]\n",
      " [0.28650138 0.48852158 0.22497704]]\n",
      "[0.28650138 0.48852158 0.22497704]\n",
      "0.18622589531680528\n",
      "0.18622589531680528\n",
      "\n",
      "0.08022038567493152\n",
      "0.07327823691460089\n",
      "\n",
      "0.02005509641873288\n",
      "0.026997245179063482\n",
      "\n",
      "0.07327823691460089\n",
      "0.08022038567493152\n",
      "\n",
      "0.3273094582185507\n",
      "0.3273094582185507\n",
      "\n",
      "0.08793388429752107\n",
      "0.08099173553719044\n",
      "\n",
      "0.026997245179063482\n",
      "0.02005509641873288\n",
      "\n",
      "0.08099173553719044\n",
      "0.08793388429752107\n",
      "\n",
      "0.11698806244260843\n",
      "0.11698806244260843\n",
      "\n"
     ]
    }
   ],
   "source": [
    "import numpy as np\n",
    "\n",
    "P = np.array([\n",
    "    [0.65, 0.28, 0.07],\n",
    "    [0.15, 0.67, 0.18],\n",
    "    [0.12, 0.36, 0.52]\n",
    "])\n",
    "\n",
    "Pn = np.linalg.matrix_power(P, 100)\n",
    "print(Pn)\n",
    "\n",
    "pi = Pn[0]\n",
    "print(pi)\n",
    "\n",
    "for i in range(0, 3):\n",
    "    for j in range(0, 3):\n",
    "        print(pi[i]*P[i][j])\n",
    "        print(pi[j]*P[j][i])\n",
    "        print()"
   ]
  },
  {
   "cell_type": "code",
   "execution_count": 1,
   "metadata": {},
   "outputs": [
    {
     "name": "stdout",
     "output_type": "stream",
     "text": [
      "0.48899999999999993\n"
     ]
    }
   ],
   "source": [
    "pi = [0.286, 0.489, 0.225]\n",
    "x = sum(it*0.489 for it in pi)\n",
    "print(x)"
   ]
  }
 ],
 "metadata": {
  "kernelspec": {
   "display_name": "Python 3",
   "language": "python",
   "name": "python3"
  },
  "language_info": {
   "codemirror_mode": {
    "name": "ipython",
    "version": 3
   },
   "file_extension": ".py",
   "mimetype": "text/x-python",
   "name": "python",
   "nbconvert_exporter": "python",
   "pygments_lexer": "ipython3",
   "version": "3.6.6"
  }
 },
 "nbformat": 4,
 "nbformat_minor": 2
}
