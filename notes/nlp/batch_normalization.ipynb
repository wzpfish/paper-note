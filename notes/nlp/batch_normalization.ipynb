{
 "cells": [
  {
   "cell_type": "markdown",
   "metadata": {},
   "source": [
    "#  Batch Normalization 理解\n",
    "\n",
    "## BN 为了解决什么问题？\n",
    "1. 在训练神经网络的时候，随着训练参数的更新，每一层的输出都会随之改变，导致每一层神经元的分布一直在变化。这就是论文中所谓的 Internal Covariate Shift 问题。\n",
    "2. 梯度消失或梯度爆炸问题。考虑 sigmoid 激活函数。g(x) = 1/(1+exp(-x))， g'(x) = g(x) * (1 - g(x))。当 |x| 变大时，g'(x) 趋近于0。因此对于 x = wu+b，反向传播给u的梯度就会趋近于0。\n",
    "\n",
    "## BN 如何解决这些问题？\n",
    "（以下的输入在 BN 中都是指激活函数前的值，如 sigmoid(wx+b)，输入是指wx+b）\n",
    "\n",
    "对每一层的输入做白化是解决输入数据分布不一致的通常做法，但是做白化需要对每一层的输入单元一起做，这导致计算代价很大求导很复杂。\n",
    "\n",
    "因此，BN做了两个简化。\n",
    "\n",
    "1. 对于输入的每个神经元做归一化，而不是输入的整体做归一化。（虽然输入的每一维不一定是无关的）\n",
    "2. 做归一化的时候不是针对整个训练数据求均值和方差，而是用每一个 mini-batch 的均值和方差作为整体数据的估计值。这一点和 sgd 的思路很像，用 mini-batch 的梯度代表整个 batch 的梯度。\n",
    "\n",
    "如果把每层的输入直接归一化到均值为0，方差为1，那么网络的表达能力就被我们强制降低了。因此，在归一化之后，BN 还要将分布映射到均值为u,方差为σ的分布上去。\n",
    "\n",
    "在 inference 阶段和在 train 阶段有一丝差别，在 train 的时候我们可以根据 mini-batch 计算输入的均值和方差，但是在 inference 的时候不能因为只输入一个样本就不让 inference 把。。因此，在 inference 阶段，输入的均值和方差是固定住的。均值是训练时候所有均值的平均，方差是训练时候所有方差的无偏估计。在实际实现的时候可以用 moving average 来计算这两个值，而不用把结果都存下来。\n",
    "\n",
    "\n",
    "## BN 的优势\n",
    "1. 可以选择很大的学习率，加速收敛。在训练NN的时候，学习率选择太大容易导致梯度消失或者爆炸（链式求导的连乘）。而有了 BN 之后，参数的 scale 影响会减小。（可以看论文推导一遍）\n",
    "2. 不需要很小心地去初始化参数。原因同上。\n",
    "\n",
    "## Reference\n",
    "* [Batch Normalization: Accelerating Deep Network Training by Reducing\n",
    "Internal Covariate Shift](http://proceedings.mlr.press/v37/ioffe15.pdf)\n",
    "* [知乎讨论：为什么BN效果好](https://www.zhihu.com/question/38102762)\n",
    "* [Implementing Batch Normalization in Tensorflow](https://r2rt.com/implementing-batch-normalization-in-tensorflow.html)\n",
    "* [What is an explanation of the example of why batch normalization has to be done with some care?\n",
    "](https://stats.stackexchange.com/questions/215458/what-is-an-explanation-of-the-example-of-why-batch-normalization-has-to-be-done)\n",
    "* [不同learning rate 不同权重下，BN与非BN对比](https://github.com/NELSONZHAO/zhihu/blob/master/batch_normalization_discussion/batch_norm_discussion.ipynb)\n"
   ]
  },
  {
   "cell_type": "markdown",
   "metadata": {},
   "source": [
    "## 复现论文中的第一个实验\n",
    "\n",
    "用 BN 和不用 BN 对 MNIST 分类问题的影响"
   ]
  },
  {
   "cell_type": "code",
   "execution_count": 1,
   "metadata": {},
   "outputs": [
    {
     "name": "stderr",
     "output_type": "stream",
     "text": [
      "c:\\program files (x86)\\microsoft visual studio\\shared\\python36_64\\lib\\site-packages\\tqdm\\autonotebook\\__init__.py:14: TqdmExperimentalWarning: Using `tqdm.autonotebook.tqdm` in notebook mode. Use `tqdm.tqdm` instead to force console mode (e.g. in jupyter console)\n",
      "  \" (e.g. in jupyter console)\", TqdmExperimentalWarning)\n"
     ]
    }
   ],
   "source": [
    "import numpy as np\n",
    "import pandas as pd\n",
    "import tensorflow as tf\n",
    "from tqdm.autonotebook import tqdm\n",
    "import matplotlib.pyplot as plt\n",
    "import warnings\n",
    "warnings.filterwarnings(\"ignore\")\n",
    "\n",
    "%matplotlib inline"
   ]
  },
  {
   "cell_type": "code",
   "execution_count": 2,
   "metadata": {},
   "outputs": [
    {
     "name": "stdout",
     "output_type": "stream",
     "text": [
      "1.14.0\n"
     ]
    }
   ],
   "source": [
    "print(tf.__version__)"
   ]
  },
  {
   "cell_type": "code",
   "execution_count": 3,
   "metadata": {},
   "outputs": [
    {
     "name": "stderr",
     "output_type": "stream",
     "text": [
      "WARNING: Logging before flag parsing goes to stderr.\n",
      "W0711 22:38:26.810965  3636 deprecation.py:323] From <ipython-input-3-279a5b47b21f>:53: read_data_sets (from tensorflow.contrib.learn.python.learn.datasets.mnist) is deprecated and will be removed in a future version.\n",
      "Instructions for updating:\n",
      "Please use alternatives such as official/mnist/dataset.py from tensorflow/models.\n",
      "W0711 22:38:26.810965  3636 deprecation.py:323] From C:\\Users\\zhipwang\\AppData\\Roaming\\Python\\Python36\\site-packages\\tensorflow\\contrib\\learn\\python\\learn\\datasets\\mnist.py:260: maybe_download (from tensorflow.contrib.learn.python.learn.datasets.base) is deprecated and will be removed in a future version.\n",
      "Instructions for updating:\n",
      "Please write your own downloading logic.\n",
      "W0711 22:38:26.810965  3636 deprecation.py:323] From C:\\Users\\zhipwang\\AppData\\Roaming\\Python\\Python36\\site-packages\\tensorflow\\contrib\\learn\\python\\learn\\datasets\\mnist.py:262: extract_images (from tensorflow.contrib.learn.python.learn.datasets.mnist) is deprecated and will be removed in a future version.\n",
      "Instructions for updating:\n",
      "Please use tf.data to implement this functionality.\n"
     ]
    },
    {
     "name": "stdout",
     "output_type": "stream",
     "text": [
      "Extracting MINIT_data/train-images-idx3-ubyte.gz\n"
     ]
    },
    {
     "name": "stderr",
     "output_type": "stream",
     "text": [
      "W0711 22:38:27.467211  3636 deprecation.py:323] From C:\\Users\\zhipwang\\AppData\\Roaming\\Python\\Python36\\site-packages\\tensorflow\\contrib\\learn\\python\\learn\\datasets\\mnist.py:267: extract_labels (from tensorflow.contrib.learn.python.learn.datasets.mnist) is deprecated and will be removed in a future version.\n",
      "Instructions for updating:\n",
      "Please use tf.data to implement this functionality.\n"
     ]
    },
    {
     "name": "stdout",
     "output_type": "stream",
     "text": [
      "Extracting MINIT_data/train-labels-idx1-ubyte.gz\n"
     ]
    },
    {
     "name": "stderr",
     "output_type": "stream",
     "text": [
      "W0711 22:38:27.482834  3636 deprecation.py:323] From C:\\Users\\zhipwang\\AppData\\Roaming\\Python\\Python36\\site-packages\\tensorflow\\contrib\\learn\\python\\learn\\datasets\\mnist.py:110: dense_to_one_hot (from tensorflow.contrib.learn.python.learn.datasets.mnist) is deprecated and will be removed in a future version.\n",
      "Instructions for updating:\n",
      "Please use tf.one_hot on tensors.\n"
     ]
    },
    {
     "name": "stdout",
     "output_type": "stream",
     "text": [
      "Extracting MINIT_data/t10k-images-idx3-ubyte.gz\n",
      "Extracting MINIT_data/t10k-labels-idx1-ubyte.gz\n"
     ]
    },
    {
     "name": "stderr",
     "output_type": "stream",
     "text": [
      "W0711 22:38:27.607822  3636 deprecation.py:323] From C:\\Users\\zhipwang\\AppData\\Roaming\\Python\\Python36\\site-packages\\tensorflow\\contrib\\learn\\python\\learn\\datasets\\mnist.py:290: DataSet.__init__ (from tensorflow.contrib.learn.python.learn.datasets.mnist) is deprecated and will be removed in a future version.\n",
      "Instructions for updating:\n",
      "Please use alternatives such as official/mnist/dataset.py from tensorflow/models.\n",
      "W0711 22:38:28.264061  3636 deprecation.py:323] From <ipython-input-3-279a5b47b21f>:41: batch_normalization (from tensorflow.python.layers.normalization) is deprecated and will be removed in a future version.\n",
      "Instructions for updating:\n",
      "Use keras.layers.BatchNormalization instead.  In particular, `tf.control_dependencies(tf.GraphKeys.UPDATE_OPS)` should not be used (consult the `tf.keras.layers.batch_normalization` documentation).\n"
     ]
    },
    {
     "data": {
      "application/vnd.jupyter.widget-view+json": {
       "model_id": "3a10655f3ed64706a47f264e7224c5e2",
       "version_major": 2,
       "version_minor": 0
      },
      "text/plain": [
       "HBox(children=(IntProgress(value=0, max=50000), HTML(value='')))"
      ]
     },
     "metadata": {},
     "output_type": "display_data"
    },
    {
     "name": "stdout",
     "output_type": "stream",
     "text": [
      "\n",
      "Extracting MINIT_data/train-images-idx3-ubyte.gz\n",
      "Extracting MINIT_data/train-labels-idx1-ubyte.gz\n",
      "Extracting MINIT_data/t10k-images-idx3-ubyte.gz\n",
      "Extracting MINIT_data/t10k-labels-idx1-ubyte.gz\n"
     ]
    },
    {
     "data": {
      "application/vnd.jupyter.widget-view+json": {
       "model_id": "f33f1b63bb9d4e07b2e733ce5a4d0d43",
       "version_major": 2,
       "version_minor": 0
      },
      "text/plain": [
       "HBox(children=(IntProgress(value=0, max=50000), HTML(value='')))"
      ]
     },
     "metadata": {},
     "output_type": "display_data"
    },
    {
     "name": "stdout",
     "output_type": "stream",
     "text": [
      "\n"
     ]
    },
    {
     "data": {
      "image/png": "[encoded data removed]",
      "text/plain": [
       "<Figure size 432x288 with 1 Axes>"
      ]
     },
     "metadata": {
      "needs_background": "light"
     },
     "output_type": "display_data"
    }
   ],
   "source": [
    "class ANN:\n",
    "    def __init__(self, use_bn, learning_rate, num_layers=3, hidden_size=100):\n",
    "        self.x = tf.placeholder(tf.float32, shape=(None, 784))\n",
    "        self.labels = tf.placeholder(tf.float32, shape=[None, 10])\n",
    "        self.is_training = tf.placeholder(tf.bool)\n",
    "        self.global_step = tf.Variable(0, trainable=False)\n",
    "        \n",
    "        # Hidden layers.\n",
    "        with tf.name_scope('hidden'):\n",
    "            layer_output = self.x\n",
    "            for i in range(num_layers):\n",
    "                layer_output = self._full_connect(layer_output, hidden_size, use_bn)\n",
    "        \n",
    "        # Output layer.\n",
    "        with tf.name_scope('output'):\n",
    "            self.logits = self._full_connect(layer_output, 10, False)\n",
    "\n",
    "        # Loss\n",
    "        with tf.name_scope('loss'):\n",
    "            self.loss = tf.reduce_mean(tf.nn.softmax_cross_entropy_with_logits_v2(labels=self.labels, logits=self.logits))\n",
    "            if use_bn:\n",
    "                with tf.control_dependencies(tf.get_collection(tf.GraphKeys.UPDATE_OPS)):\n",
    "                    self.optimizer = tf.train.GradientDescentOptimizer(learning_rate).minimize(self.loss, global_step=self.global_step)\n",
    "            else:\n",
    "                self.optimizer = tf.train.GradientDescentOptimizer(learning_rate).minimize(self.loss, global_step=self.global_step)\n",
    "    \n",
    "        # Accuracy\n",
    "        with tf.name_scope('accuracy'):\n",
    "            self.predicts = tf.argmax(self.logits, 1)\n",
    "            self.true_labels = tf.argmax(self.labels, 1)\n",
    "            self.accuracy = tf.reduce_mean(tf.cast(tf.equal(self.predicts, self.true_labels), tf.float32))\n",
    "        \n",
    "    def _full_connect(self, _input, output_size, use_bn):\n",
    "        input_size = _input.shape[1].value\n",
    "        init_weights = tf.random.normal([input_size, output_size])\n",
    "        init_bias = tf.zeros([output_size])\n",
    "        weights = tf.Variable(init_weights, trainable=True)\n",
    "        bias = tf.Variable(init_bias, trainable=True)\n",
    "        linear_output = tf.add(tf.matmul(_input, weights), bias)\n",
    "        if use_bn:\n",
    "            linear_output = tf.layers.batch_normalization(linear_output, training=self.is_training)\n",
    "        return tf.nn.sigmoid(linear_output)\n",
    "\n",
    "\n",
    "def train(use_bn):\n",
    "    num_steps = 50000\n",
    "    batch_size = 60\n",
    "    learning_rate = 1.0\n",
    "    test_every_steps = 500 \n",
    "\n",
    "    \n",
    "    from tensorflow.examples.tutorials.mnist import input_data\n",
    "    mnist = input_data.read_data_sets('MINIT_data/', one_hot=True)\n",
    "    \n",
    "    steps = []\n",
    "    test_acc = []\n",
    "\n",
    "    with tf.Session() as sess:\n",
    "        model = ANN(use_bn, learning_rate)\n",
    "        sess.run(tf.global_variables_initializer())\n",
    "    \n",
    "        for i in tqdm(range(num_steps)):\n",
    "            batch_x, batch_y = mnist.train.next_batch(batch_size)\n",
    "            feed_dict = { \n",
    "                model.x: batch_x,\n",
    "                model.labels: batch_y,\n",
    "                model.is_training: True\n",
    "            }   \n",
    "            _, step, loss, train_accuracy = sess.run(\n",
    "                [model.optimizer, model.global_step, model.loss, model.accuracy],\n",
    "                feed_dict=feed_dict)\n",
    "    \n",
    "            if step % test_every_steps == 0:\n",
    "                accuracy = sess.run(model.accuracy, feed_dict={\n",
    "                    model.x: mnist.test.images,\n",
    "                    model.labels: mnist.test.labels,\n",
    "                    model.is_training: False\n",
    "                })\n",
    "                steps.append(step)\n",
    "                test_acc.append(accuracy)\n",
    "    return test_acc, steps\n",
    "    \n",
    "def plot(use_bn_acc, use_bn_steps, not_bn_acc, not_bn_steps):\n",
    "    fig, ax = plt.subplots()\n",
    "    ax.plot(use_bn_steps, use_bn_acc, label='with bn')\n",
    "    ax.plot(not_bn_steps, not_bn_acc, label='without bn')\n",
    "    ax.set_xlabel('train steps')\n",
    "    ax.set_ylabel('test accuracy')\n",
    "    ax.legend(loc=4)\n",
    "    ax.set_ylim([0, 1]) \n",
    "    plt.show()\n",
    "\n",
    "use_bn_acc, use_bn_steps = train(True)\n",
    "tf.reset_default_graph()\n",
    "not_bn_acc, not_bn_steps = train(False)\n",
    "plot(use_bn_acc, use_bn_steps, not_bn_acc, not_bn_steps)"
   ]
  }
 ],
 "metadata": {
  "kernelspec": {
   "display_name": "Python 3",
   "language": "python",
   "name": "python3"
  },
  "language_info": {
   "codemirror_mode": {
    "name": "ipython",
    "version": 3
   },
   "file_extension": ".py",
   "mimetype": "text/x-python",
   "name": "python",
   "nbconvert_exporter": "python",
   "pygments_lexer": "ipython3",
   "version": "3.6.6"
  }
 },
 "nbformat": 4,
 "nbformat_minor": 2
}
